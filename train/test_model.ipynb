{
 "cells": [
  {
   "cell_type": "code",
   "id": "initial_id",
   "metadata": {
    "collapsed": true,
    "ExecuteTime": {
     "end_time": "2024-05-25T17:09:11.604564Z",
     "start_time": "2024-05-25T17:09:10.958886Z"
    }
   },
   "source": [
    "import pandas as pd\n",
    "from sklearn.metrics import classification_report\n",
    "from sklearn.model_selection import train_test_split\n",
    "from sklearn.model_selection import GridSearchCV, StratifiedKFold\n",
    "from sklearn.pipeline import Pipeline\n",
    "from sklearn.impute import SimpleImputer\n",
    "from sklearn.preprocessing import StandardScaler, OneHotEncoder, LabelEncoder\n",
    "from sklearn.compose import ColumnTransformer\n",
    "from xgboost import XGBClassifier\n",
    "import joblib"
   ],
   "outputs": [],
   "execution_count": 1
  },
  {
   "metadata": {
    "ExecuteTime": {
     "end_time": "2024-05-25T17:09:11.627615Z",
     "start_time": "2024-05-25T17:09:11.605565Z"
    }
   },
   "cell_type": "code",
   "source": [
    "df = pd.read_csv('train/DATASET-balanced.csv')\n",
    "#df.head(10)"
   ],
   "id": "7bbb2464f82cd655",
   "outputs": [],
   "execution_count": 2
  },
  {
   "metadata": {
    "ExecuteTime": {
     "end_time": "2024-05-25T17:09:11.631437Z",
     "start_time": "2024-05-25T17:09:11.628155Z"
    }
   },
   "cell_type": "code",
   "source": [
    "X = df.drop(columns='LABEL', axis=1)\n",
    "y = df['LABEL']\n",
    "le = LabelEncoder()\n",
    "y = le.fit_transform(y)"
   ],
   "id": "ca6485c8eda464f5",
   "outputs": [],
   "execution_count": 3
  },
  {
   "metadata": {
    "ExecuteTime": {
     "end_time": "2024-05-25T17:09:11.640238Z",
     "start_time": "2024-05-25T17:09:11.632023Z"
    }
   },
   "cell_type": "code",
   "source": [
    "model = joblib.load('model.pkl')\n",
    "prediction = model.predict(X.iloc[:100])\n",
    "from scipy.stats import mode\n",
    "print(prediction)\n",
    "print(mode(prediction)[0])"
   ],
   "id": "fbda2a02761a3501",
   "outputs": [
    {
     "name": "stdout",
     "output_type": "stream",
     "text": [
      "[0 0 0 0 0 0 0 0 0 0 0 0 0 0 0 0 0 0 0 0 0 0 0 0 0 0 0 0 0 0 0 0 0 0 0 0 0\n",
      " 0 0 0 0 0 0 0 0 0 0 0 0 0 0 0 0 0 0 0 0 0 0 0 0 0 0 0 0 0 0 0 0 0 0 0 0 0\n",
      " 0 0 0 0 0 0 0 0 0 0 0 0 0 0 0 0 0 0 0 0 0 0 0 0 0 0]\n",
      "0\n"
     ]
    }
   ],
   "execution_count": 4
  },
  {
   "metadata": {
    "ExecuteTime": {
     "end_time": "2024-05-25T17:09:11.643418Z",
     "start_time": "2024-05-25T17:09:11.641975Z"
    }
   },
   "cell_type": "code",
   "source": "",
   "id": "f07af3954cd793e",
   "outputs": [],
   "execution_count": 4
  }
 ],
 "metadata": {
  "kernelspec": {
   "display_name": "Python 3",
   "language": "python",
   "name": "python3"
  },
  "language_info": {
   "codemirror_mode": {
    "name": "ipython",
    "version": 2
   },
   "file_extension": ".py",
   "mimetype": "text/x-python",
   "name": "python",
   "nbconvert_exporter": "python",
   "pygments_lexer": "ipython2",
   "version": "2.7.6"
  }
 },
 "nbformat": 4,
 "nbformat_minor": 5
}
